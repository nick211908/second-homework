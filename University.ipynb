{
 "cells": [
  {
   "cell_type": "markdown",
   "id": "f97a536e",
   "metadata": {},
   "source": [
    "## Class Book"
   ]
  },
  {
   "cell_type": "code",
   "execution_count": 47,
   "id": "8d097b08",
   "metadata": {},
   "outputs": [],
   "source": [
    "class Book:\n",
    "    def __init__(self, title, author, ISBN):\n",
    "        self.title = title\n",
    "        self.author = author\n",
    "        self.ISBN = ISBN\n",
    "        self.isIssued = False\n",
    "\n",
    "    def updateAvailability(self, status):\n",
    "        self.isIssued = status\n"
   ]
  },
  {
   "cell_type": "markdown",
   "id": "97632a90",
   "metadata": {},
   "source": [
    "## Class Library"
   ]
  },
  {
   "cell_type": "code",
   "execution_count": 48,
   "id": "74bd2f1f",
   "metadata": {},
   "outputs": [],
   "source": [
    "class Library:\n",
    "    def __init__(self, librarianName, openingHours):\n",
    "        self.bookList = []\n",
    "        self.librarianName = librarianName\n",
    "        self.openingHours = openingHours\n",
    "\n",
    "    def addNewBook(self, book):\n",
    "        self.bookList.append(book)\n",
    "\n",
    "    def issueBook(self, book, student):\n",
    "        if book in self.bookList and not book.isIssued:\n",
    "            book.updateAvailability(True)\n",
    "            print(f\"{book.title} issued to {student.name}\")\n",
    "        else:\n",
    "            print(\"Book not available\")"
   ]
  },
  {
   "cell_type": "markdown",
   "id": "182ee6a7",
   "metadata": {},
   "source": [
    "## Class Hostel"
   ]
  },
  {
   "cell_type": "code",
   "execution_count": 59,
   "id": "89bc9e0b",
   "metadata": {},
   "outputs": [],
   "source": [
    "class Hostel:\n",
    "    def __init__(self, hostelName, capacity, wardenName):\n",
    "        self.hostelName = hostelName\n",
    "        self.capacity = capacity\n",
    "        self.wardenName = wardenName\n",
    "        self.roomList = []\n",
    "        self.allocatedRooms = {}\n",
    "\n",
    "    def allocateRoom(self, student):\n",
    "        if len(self.roomList) > 0:\n",
    "            room = self.roomList.pop(0)\n",
    "            self.allocatedRooms[student.rollNumber] = room\n",
    "            print(f\"Room {room} allocated to {student.name}\")\n",
    "        else:\n",
    "            print(\"No rooms available\")\n",
    "\n",
    "    def vacateRoom(self, student):\n",
    "        if student.rollNumber in self.allocatedRooms:\n",
    "            room = self.allocatedRooms.pop(student.rollNumber)\n",
    "            self.roomList.append(room)\n",
    "            print(f\"{student.name} vacated room {room}\")\n",
    "        else:\n",
    "            print(\"No room allocated to this student\")\n",
    "\n",
    "    def getAvailableRooms(self):\n",
    "        return self.roomList\n",
    "    def __str__(self):\n",
    "        return f\"Hostel Name: {self.hostelName},  Warden: {self.wardenName} \""
   ]
  },
  {
   "cell_type": "markdown",
   "id": "f8cca6e2",
   "metadata": {},
   "source": [
    "## Class Club"
   ]
  },
  {
   "cell_type": "code",
   "execution_count": 50,
   "id": "6a1ce7bc",
   "metadata": {},
   "outputs": [],
   "source": [
    "class Club:\n",
    "    def __init__(self, clubName, president):\n",
    "        self.clubName = clubName\n",
    "        self.president = president\n",
    "        self.memberList = []\n",
    "\n",
    "    def addMember(self, student):\n",
    "        if student not in self.memberList:\n",
    "            self.memberList.append(student)\n",
    "\n",
    "    def removeMember(self, student):\n",
    "        if student in self.memberList:\n",
    "            self.memberList.remove(student)\n",
    "\n",
    "    def organizeEvent(self, eventName):\n",
    "        print(f\"{self.clubName} is organizing {eventName}\")\n",
    "    def listMembers(self):\n",
    "        return [member.name for member in self.memberList]"
   ]
  },
  {
   "cell_type": "markdown",
   "id": "612bb958",
   "metadata": {},
   "source": [
    "## Class Society"
   ]
  },
  {
   "cell_type": "code",
   "execution_count": 51,
   "id": "59fe4a5c",
   "metadata": {},
   "outputs": [],
   "source": [
    "class Society:\n",
    "    def __init__(self, societyName, inChargeFaculty):\n",
    "        self.societyName = societyName\n",
    "        self.inChargeFaculty = inChargeFaculty\n",
    "        self.events = []\n",
    "\n",
    "    def scheduleMeeting(self, date):\n",
    "        print(f\"Meeting scheduled for {self.societyName} on {date}\")\n",
    "\n",
    "    def conductEvent(self, event):\n",
    "        self.events.append(event)\n",
    "        print(f\"{self.societyName} conducted event: {event}\")\n",
    "\n",
    "    def getEvents(self):\n",
    "        return self.events\n",
    "    def getInCharge(self):\n",
    "        return self.inChargeFaculty\n",
    "    def getName(self):\n",
    "        return self.societyName\n",
    "    def setInCharge(self, faculty):\n",
    "        self.inChargeFaculty = faculty\n",
    "        print(f\"In-charge faculty for {self.societyName} updated to {faculty}\")\n",
    "   "
   ]
  },
  {
   "cell_type": "markdown",
   "id": "967a7d5e",
   "metadata": {},
   "source": [
    "## Class Faculty"
   ]
  },
  {
   "cell_type": "code",
   "execution_count": 52,
   "id": "79ff640a",
   "metadata": {},
   "outputs": [],
   "source": [
    "class Faculty:\n",
    "    def __init__(self, name, facultyID, subjectSpecialization, department=None):\n",
    "        self.name = name\n",
    "        self.facultyID = facultyID\n",
    "        self.subjectSpecialization = subjectSpecialization\n",
    "        self.department = department\n",
    "\n",
    "    def takeAttendance(self):\n",
    "        print(f\"{self.name} is taking attendance.\")\n",
    "\n",
    "    def assignMarks(self, student, marks):\n",
    "        print(f\"{self.name} assigned marks {marks} to {student.name}\")"
   ]
  },
  {
   "cell_type": "markdown",
   "id": "e6582f70",
   "metadata": {},
   "source": [
    "## Year Class"
   ]
  },
  {
   "cell_type": "code",
   "execution_count": 53,
   "id": "8a3f60b8",
   "metadata": {},
   "outputs": [],
   "source": [
    "\n",
    "class Year:\n",
    "    def __init__(self, yearNumber):\n",
    "        self.yearNumber = yearNumber\n",
    "        self.students = []\n",
    "        self.faculty = []\n",
    "\n",
    "    def addStudent(self, student):\n",
    "        self.students.append(student)\n",
    "\n",
    "    def addFaculty(self, faculty):\n",
    "        self.faculty.append(faculty)"
   ]
  },
  {
   "cell_type": "markdown",
   "id": "dc40d178",
   "metadata": {},
   "source": [
    "## Class Department"
   ]
  },
  {
   "cell_type": "code",
   "execution_count": 54,
   "id": "8470ada0",
   "metadata": {},
   "outputs": [],
   "source": [
    "class Department:\n",
    "    def __init__(self, deptName, hodName):\n",
    "        self.deptName = deptName\n",
    "        self.hodName = hodName\n",
    "        self.facultyList = []\n",
    "        self.studentList = []\n",
    "        self.years = []\n",
    "\n",
    "    def addFaculty(self, faculty):\n",
    "        self.facultyList.append(faculty)\n",
    "\n",
    "    def removeFaculty(self, faculty):\n",
    "        if faculty in self.facultyList:\n",
    "            self.facultyList.remove(faculty)\n",
    "\n",
    "    def getStudentCount(self):\n",
    "        return len(self.studentList)\n",
    "\n",
    "    def addStudent(self, student):\n",
    "        self.studentList.append(student)\n",
    "\n",
    "    def addYear(self, year):\n",
    "        self.years.append(year)\n"
   ]
  },
  {
   "cell_type": "markdown",
   "id": "deb88275",
   "metadata": {},
   "source": [
    "## Class Student"
   ]
  },
  {
   "cell_type": "code",
   "execution_count": 55,
   "id": "02e5a520",
   "metadata": {},
   "outputs": [],
   "source": [
    "class Student:\n",
    "    def __init__(self, name, rollNumber, course, year, department, hostel=None):\n",
    "        self.name = name\n",
    "        self.rollNumber = rollNumber\n",
    "        self.course = course\n",
    "        self.year = year\n",
    "        self.department = department\n",
    "        self.hostel = hostel\n",
    "        self.clubs = []\n",
    "        self.societies = []\n",
    "\n",
    "    def enrollInCourse(self, course):\n",
    "        self.course = course\n",
    "\n",
    "    def joinClub(self, club):\n",
    "        if club not in self.clubs:\n",
    "            self.clubs.append(club)\n",
    "            club.addMember(self)\n",
    "\n",
    "    def joinSociety(self, society):\n",
    "        if society not in self.societies:\n",
    "            self.societies.append(society)\n",
    "\n",
    "    def requestBook(self, library, book):\n",
    "        library.issueBook(book, self)\n",
    "\n",
    "    def returnBook(self, library, book):\n",
    "        library.returnBook(book)"
   ]
  },
  {
   "cell_type": "markdown",
   "id": "61a0e2fe",
   "metadata": {},
   "source": [
    "## Class AccountsDepartment"
   ]
  },
  {
   "cell_type": "code",
   "execution_count": 56,
   "id": "91ae6d73",
   "metadata": {},
   "outputs": [],
   "source": [
    "class AccountsDepartment:\n",
    "    def __init__(self):\n",
    "        self.totalFeeDue = {}\n",
    "        self.fineAmount = {}\n",
    "        self.scholarships = {}\n",
    "\n",
    "    def payFee(self, student, amount):\n",
    "        if student.rollNumber in self.totalFeeDue:\n",
    "            self.totalFeeDue[student.rollNumber] -= amount\n",
    "            print(f\"{student.name} paid {amount}. Remaining due: {self.totalFeeDue[student.rollNumber]}\")\n",
    "        else:\n",
    "            print(\"No fee record found for student.\")\n",
    "\n",
    "    def checkDue(self, student):\n",
    "        return self.totalFeeDue.get(student.rollNumber, 0)\n",
    "\n",
    "    def applyScholarship(self, student, amount):\n",
    "        self.scholarships[student.rollNumber] = amount\n",
    "        print(f\"Scholarship of {amount} applied to {student.name}\")"
   ]
  },
  {
   "cell_type": "markdown",
   "id": "c54ae819",
   "metadata": {},
   "source": [
    "## Class University"
   ]
  },
  {
   "cell_type": "code",
   "execution_count": 57,
   "id": "4364d475",
   "metadata": {},
   "outputs": [],
   "source": [
    "class University:\n",
    "    def __init__(self, universityName, location, establishedYear):\n",
    "        self.universityName = universityName\n",
    "        self.location = location\n",
    "        self.establishedYear = establishedYear\n",
    "        self.departments = []\n",
    "        self.hostels = []\n",
    "        self.library = None\n",
    "        self.accountsDepartment = None\n",
    "\n",
    "    def manageDepartments(self):\n",
    "        return [hostel.name for hostel in self.hostels]\n",
    "\n",
    "    def manageHostels(self):\n",
    "        return self.hostels\n",
    "\n",
    "    def manageLibrary(self):\n",
    "        return self.library\n",
    "\n",
    "    def addDepartment(self, department):\n",
    "        self.departments.append(department)\n",
    "\n",
    "    def addHostel(self, hostel):\n",
    "        self.hostels.append(hostel)\n",
    "\n",
    "    def setLibrary(self, library):\n",
    "        self.library = library\n",
    "\n",
    "    def setAccountsDepartment(self, accounts):\n",
    "        self.accountsDepartment = accounts"
   ]
  },
  {
   "cell_type": "code",
   "execution_count": null,
   "id": "7527e084",
   "metadata": {},
   "outputs": [
    {
     "name": "stdout",
     "output_type": "stream",
     "text": [
      "Hostel Name: Ramnujan Hostel,  Warden: Dr. Manik Chandra \n",
      "Hostel Name: AryaBhatta Hostel,  Warden: Satyendra \n"
     ]
    }
   ],
   "source": [
    "IET=University(\"IET University\", \"Lucknow\", 1956)\n",
    "ApniLibrary=Library(\"Apni Library\", \"9 AM - 5 PM\")\n",
    "Ramnujan=Hostel(\"Ramnujan Hostel\", 100, \"Dr. Manik Chandra\")\n",
    "AryaBhatta=Hostel(\"AryaBhatta Hostel\",100,\"Satyendra\")\n",
    "IET.setLibrary(ApniLibrary)\n",
    "IET.addHostel(Ramnujan)\n",
    "IET.addHostel(AryaBhatta)\n",
    "Hostels= IET.manageHostels()\n",
    "for hostel in Hostels:\n",
    "    print(hostel)\n",
    "ApniLibrary.addNewBook(Book(\"Python Programming\", \"John Doe\", \"1234567890\"))\n",
    "ApniLibrary.addNewBook(Book(\"Data Structures\", \"Jane Smith\", \"0987654321\"))"
   ]
  },
  {
   "cell_type": "code",
   "execution_count": null,
   "id": "f09902c2",
   "metadata": {},
   "outputs": [],
   "source": []
  }
 ],
 "metadata": {
  "kernelspec": {
   "display_name": "base",
   "language": "python",
   "name": "python3"
  },
  "language_info": {
   "codemirror_mode": {
    "name": "ipython",
    "version": 3
   },
   "file_extension": ".py",
   "mimetype": "text/x-python",
   "name": "python",
   "nbconvert_exporter": "python",
   "pygments_lexer": "ipython3",
   "version": "3.12.7"
  }
 },
 "nbformat": 4,
 "nbformat_minor": 5
}
