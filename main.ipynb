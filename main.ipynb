{
 "cells": [
  {
   "metadata": {
    "ExecuteTime": {
     "end_time": "2025-06-12T12:16:37.572922Z",
     "start_time": "2025-06-12T12:16:33.732120Z"
    }
   },
   "cell_type": "code",
   "source": [
    "def lend_book():\n",
    "    print(\"Available Books:\")\n",
    "    for key, value in available_books.items():\n",
    "        print(f\"{key} - {value} copies\")\n",
    "    book_name = input(\"Enter the book name from Available Books: \")\n",
    "    if book_name in available_books and available_books[book_name] >= 1:\n",
    "        name = input(\"Enter Your Name: \")\n",
    "        phone = input(\"Enter Your Phone Number: \")\n",
    "        city = input(\"Enter Your City: \")\n",
    "        lend.setdefault(book_name, []).append((name, phone, city))\n",
    "        available_books[book_name] -= 1\n",
    "        print(f\"\\nBook '{book_name}' lent to {name}.\\n\")\n",
    "    else:\n",
    "        print(\"Sorry, this book is not available or out of stock.\")\n",
    "\n",
    "def receive_book():\n",
    "    book_name = input(\"Enter the book name you are returning: \")\n",
    "    name = input(\"Enter Your Name: \")\n",
    "    if book_name in lend:\n",
    "        found = False\n",
    "        for entry in lend[book_name]:\n",
    "            if entry[0] == name:\n",
    "                lend[book_name].remove(entry)\n",
    "                available_books[book_name] = available_books.get(book_name, 0) + 1\n",
    "                print(f\"\\nThank you {name}, book '{book_name}' received.\\n\")\n",
    "                found = True\n",
    "                break\n",
    "        if not found:\n",
    "            print(\"Record not found. Please check your name or book.\")\n",
    "    else:\n",
    "        print(\"This book was not lent out.\")\n",
    "\n",
    "def add_new():\n",
    "    book_name = input(\"Enter the book name you are adding: \")\n",
    "    try:\n",
    "        no_of_books = int(input(\"Enter the number of books you are adding: \"))\n",
    "    except ValueError:\n",
    "        print(\"Please enter a valid number.\")\n",
    "        return\n",
    "    available_books[book_name] = available_books.get(book_name, 0) + no_of_books\n",
    "    print(\"Book Added Successfully....\")\n",
    "\n",
    "\n",
    "available_books = {\n",
    "    \"Rs-Agrwaal\": 2,\n",
    "    \"Rd-Sharma\": 3\n",
    "}\n",
    "lend = {\n",
    "    \"Rs-Agrwaal\": [\n",
    "        (\"Ayush Pandey\", \"6394310194\", \"Lucknow\"),\n",
    "        (\"Rudresh Dubey\", \"8808307135\", \"Lucknow\")\n",
    "    ]\n",
    "}\n",
    "\n",
    "choice = int(input(\"Enter 1 to Lend Book\\nEnter 2 to Receive Book\\nEnter 3 to Add New Book to Library\\nYour Choice: \"))\n",
    "if choice == 1:\n",
    "    lend_book()\n",
    "elif choice == 2:\n",
    "    receive_book()\n",
    "elif choice == 3:\n",
    "    add_new()\n",
    "else:\n",
    "    print(\"Invalid Choice. Please enter 1, 2, or 3.\")\n"
   ],
   "id": "7f5b22882e8fca41",
   "outputs": [
    {
     "ename": "KeyboardInterrupt",
     "evalue": "Interrupted by user",
     "output_type": "error",
     "traceback": [
      "\u001B[1;31m---------------------------------------------------------------------------\u001B[0m",
      "\u001B[1;31mKeyboardInterrupt\u001B[0m                         Traceback (most recent call last)",
      "Cell \u001B[1;32mIn[3], line 55\u001B[0m\n\u001B[0;32m     44\u001B[0m available_books \u001B[38;5;241m=\u001B[39m {\n\u001B[0;32m     45\u001B[0m     \u001B[38;5;124m\"\u001B[39m\u001B[38;5;124mRs-Agrwaal\u001B[39m\u001B[38;5;124m\"\u001B[39m: \u001B[38;5;241m2\u001B[39m,\n\u001B[0;32m     46\u001B[0m     \u001B[38;5;124m\"\u001B[39m\u001B[38;5;124mRd-Sharma\u001B[39m\u001B[38;5;124m\"\u001B[39m: \u001B[38;5;241m3\u001B[39m\n\u001B[0;32m     47\u001B[0m }\n\u001B[0;32m     48\u001B[0m lend \u001B[38;5;241m=\u001B[39m {\n\u001B[0;32m     49\u001B[0m     \u001B[38;5;124m\"\u001B[39m\u001B[38;5;124mRs-Agrwaal\u001B[39m\u001B[38;5;124m\"\u001B[39m: [\n\u001B[0;32m     50\u001B[0m         (\u001B[38;5;124m\"\u001B[39m\u001B[38;5;124mAyush Pandey\u001B[39m\u001B[38;5;124m\"\u001B[39m, \u001B[38;5;124m\"\u001B[39m\u001B[38;5;124m6394310194\u001B[39m\u001B[38;5;124m\"\u001B[39m, \u001B[38;5;124m\"\u001B[39m\u001B[38;5;124mLucknow\u001B[39m\u001B[38;5;124m\"\u001B[39m),\n\u001B[0;32m     51\u001B[0m         (\u001B[38;5;124m\"\u001B[39m\u001B[38;5;124mRudresh Dubey\u001B[39m\u001B[38;5;124m\"\u001B[39m, \u001B[38;5;124m\"\u001B[39m\u001B[38;5;124m8808307135\u001B[39m\u001B[38;5;124m\"\u001B[39m, \u001B[38;5;124m\"\u001B[39m\u001B[38;5;124mLucknow\u001B[39m\u001B[38;5;124m\"\u001B[39m)\n\u001B[0;32m     52\u001B[0m     ]\n\u001B[0;32m     53\u001B[0m }\n\u001B[1;32m---> 55\u001B[0m choice \u001B[38;5;241m=\u001B[39m \u001B[38;5;28mint\u001B[39m(\u001B[38;5;28minput\u001B[39m(\u001B[38;5;124m\"\u001B[39m\u001B[38;5;124mEnter 1 to Lend Book\u001B[39m\u001B[38;5;130;01m\\n\u001B[39;00m\u001B[38;5;124mEnter 2 to Receive Book\u001B[39m\u001B[38;5;130;01m\\n\u001B[39;00m\u001B[38;5;124mEnter 3 to Add New Book to Library\u001B[39m\u001B[38;5;130;01m\\n\u001B[39;00m\u001B[38;5;124mYour Choice: \u001B[39m\u001B[38;5;124m\"\u001B[39m))\n\u001B[0;32m     56\u001B[0m \u001B[38;5;28;01mif\u001B[39;00m choice \u001B[38;5;241m==\u001B[39m \u001B[38;5;241m1\u001B[39m:\n\u001B[0;32m     57\u001B[0m     lend_book()\n",
      "File \u001B[1;32m~\\anaconda3\\Lib\\site-packages\\ipykernel\\kernelbase.py:1262\u001B[0m, in \u001B[0;36mKernel.raw_input\u001B[1;34m(self, prompt)\u001B[0m\n\u001B[0;32m   1260\u001B[0m     msg \u001B[38;5;241m=\u001B[39m \u001B[38;5;124m\"\u001B[39m\u001B[38;5;124mraw_input was called, but this frontend does not support input requests.\u001B[39m\u001B[38;5;124m\"\u001B[39m\n\u001B[0;32m   1261\u001B[0m     \u001B[38;5;28;01mraise\u001B[39;00m StdinNotImplementedError(msg)\n\u001B[1;32m-> 1262\u001B[0m \u001B[38;5;28;01mreturn\u001B[39;00m \u001B[38;5;28mself\u001B[39m\u001B[38;5;241m.\u001B[39m_input_request(\n\u001B[0;32m   1263\u001B[0m     \u001B[38;5;28mstr\u001B[39m(prompt),\n\u001B[0;32m   1264\u001B[0m     \u001B[38;5;28mself\u001B[39m\u001B[38;5;241m.\u001B[39m_parent_ident[\u001B[38;5;124m\"\u001B[39m\u001B[38;5;124mshell\u001B[39m\u001B[38;5;124m\"\u001B[39m],\n\u001B[0;32m   1265\u001B[0m     \u001B[38;5;28mself\u001B[39m\u001B[38;5;241m.\u001B[39mget_parent(\u001B[38;5;124m\"\u001B[39m\u001B[38;5;124mshell\u001B[39m\u001B[38;5;124m\"\u001B[39m),\n\u001B[0;32m   1266\u001B[0m     password\u001B[38;5;241m=\u001B[39m\u001B[38;5;28;01mFalse\u001B[39;00m,\n\u001B[0;32m   1267\u001B[0m )\n",
      "File \u001B[1;32m~\\anaconda3\\Lib\\site-packages\\ipykernel\\kernelbase.py:1305\u001B[0m, in \u001B[0;36mKernel._input_request\u001B[1;34m(self, prompt, ident, parent, password)\u001B[0m\n\u001B[0;32m   1302\u001B[0m \u001B[38;5;28;01mexcept\u001B[39;00m \u001B[38;5;167;01mKeyboardInterrupt\u001B[39;00m:\n\u001B[0;32m   1303\u001B[0m     \u001B[38;5;66;03m# re-raise KeyboardInterrupt, to truncate traceback\u001B[39;00m\n\u001B[0;32m   1304\u001B[0m     msg \u001B[38;5;241m=\u001B[39m \u001B[38;5;124m\"\u001B[39m\u001B[38;5;124mInterrupted by user\u001B[39m\u001B[38;5;124m\"\u001B[39m\n\u001B[1;32m-> 1305\u001B[0m     \u001B[38;5;28;01mraise\u001B[39;00m \u001B[38;5;167;01mKeyboardInterrupt\u001B[39;00m(msg) \u001B[38;5;28;01mfrom\u001B[39;00m \u001B[38;5;28;01mNone\u001B[39;00m\n\u001B[0;32m   1306\u001B[0m \u001B[38;5;28;01mexcept\u001B[39;00m \u001B[38;5;167;01mException\u001B[39;00m:\n\u001B[0;32m   1307\u001B[0m     \u001B[38;5;28mself\u001B[39m\u001B[38;5;241m.\u001B[39mlog\u001B[38;5;241m.\u001B[39mwarning(\u001B[38;5;124m\"\u001B[39m\u001B[38;5;124mInvalid Message:\u001B[39m\u001B[38;5;124m\"\u001B[39m, exc_info\u001B[38;5;241m=\u001B[39m\u001B[38;5;28;01mTrue\u001B[39;00m)\n",
      "\u001B[1;31mKeyboardInterrupt\u001B[0m: Interrupted by user"
     ]
    }
   ],
   "execution_count": 3
  }
 ],
 "metadata": {
  "kernelspec": {
   "display_name": "Python 3",
   "language": "python",
   "name": "python3"
  },
  "language_info": {
   "codemirror_mode": {
    "name": "ipython",
    "version": 2
   },
   "file_extension": ".py",
   "mimetype": "text/x-python",
   "name": "python",
   "nbconvert_exporter": "python",
   "pygments_lexer": "ipython2",
   "version": "2.7.6"
  }
 },
 "nbformat": 4,
 "nbformat_minor": 5
}
