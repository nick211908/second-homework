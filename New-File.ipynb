{
 "cells": [
  {
   "cell_type": "code",
   "id": "initial_id",
   "metadata": {
    "collapsed": true,
    "ExecuteTime": {
     "end_time": "2025-06-17T08:33:07.004306Z",
     "start_time": "2025-06-17T08:33:06.995954Z"
    }
   },
   "source": [
    "class Bank:\n",
    "    def __init__(self,name):\n",
    "        self._name=name\n",
    "        self.branch=[]\n",
    "\n",
    "    @property\n",
    "    def name(self):\n",
    "        return self._name\n",
    "    @property\n",
    "    def branch(self):\n",
    "        return self._branch\n",
    "    @branch.setter\n",
    "    def branch(self,branches):\n",
    "        self._branch.append(branches)\n",
    "    def __str__(self):\n",
    "        return f'{self._name} : {self._branch}'\n",
    "\n"
   ],
   "outputs": [],
   "execution_count": 33
  },
  {
   "metadata": {
    "ExecuteTime": {
     "end_time": "2025-06-17T08:33:07.061012Z",
     "start_time": "2025-06-17T08:33:07.052287Z"
    }
   },
   "cell_type": "code",
   "source": [
    "class Branch:\n",
    "    def __init__(self,branch_name,adress,ifsc):\n",
    "        self._branch_name=branch_name\n",
    "        self._adress=adress\n",
    "        self._ifsc=ifsc\n",
    "        self._Customers=[]\n",
    "    def __str__(self):\n",
    "        return f'{self._branch_name} : {self._ifsc} : {self.Customers}'\n",
    "    @property\n",
    "    def branch_name(self):\n",
    "        return self._branch_name\n",
    "    @property\n",
    "    def adress(self):\n",
    "        return self._adress\n",
    "    @property\n",
    "    def ifsc(self):\n",
    "        return self._ifsc\n",
    "    @property\n",
    "    def Customers(self):\n",
    "        return self._Customers\n",
    "    @Customers.setter\n",
    "    def Customers(self,Customer):\n",
    "        self._Customers.append(Customer)\n",
    "    def __str__(self):\n",
    "        return f'{self._branch_name} : {self._ifsc} : {self._Customers}'\n",
    "\n",
    "\n",
    "\n"
   ],
   "id": "18705de4a622168d",
   "outputs": [],
   "execution_count": 34
  },
  {
   "metadata": {
    "ExecuteTime": {
     "end_time": "2025-06-17T08:40:40.970691Z",
     "start_time": "2025-06-17T08:40:40.964306Z"
    }
   },
   "cell_type": "code",
   "source": [
    "Bank1=Bank(\"BOB\")\n",
    "Branch1=Branch(\"IIM-Road\",\"Sitapur Road\",\"BOB4804\")\n",
    "Bank1.branch=Branch1\n",
    "print(Bank1)"
   ],
   "id": "b92d90ba08877287",
   "outputs": [
    {
     "name": "stdout",
     "output_type": "stream",
     "text": [
      "BOB : [<__main__.Branch object at 0x0000021A551EE2D0>]\n"
     ]
    }
   ],
   "execution_count": 44
  },
  {
   "metadata": {
    "ExecuteTime": {
     "end_time": "2025-06-17T08:33:07.190951Z",
     "start_time": "2025-06-17T08:33:07.187890Z"
    }
   },
   "cell_type": "code",
   "source": "",
   "id": "dddc5e76a2aea131",
   "outputs": [],
   "execution_count": null
  }
 ],
 "metadata": {
  "kernelspec": {
   "display_name": "Python 3",
   "language": "python",
   "name": "python3"
  },
  "language_info": {
   "codemirror_mode": {
    "name": "ipython",
    "version": 2
   },
   "file_extension": ".py",
   "mimetype": "text/x-python",
   "name": "python",
   "nbconvert_exporter": "python",
   "pygments_lexer": "ipython2",
   "version": "2.7.6"
  }
 },
 "nbformat": 4,
 "nbformat_minor": 5
}
