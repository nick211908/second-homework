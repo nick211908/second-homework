{
 "cells": [
  {
   "cell_type": "code",
   "execution_count": 71,
   "id": "d44c732d",
   "metadata": {},
   "outputs": [],
   "source": [
    "from abc import ABC,abstractmethod\n",
    "class Account(ABC):\n",
    "    def __init__(self,account_no,balance=0):\n",
    "        self.account_no=account_no\n",
    "        self.balance=balance\n",
    "    @abstractmethod\n",
    "    def deposit(self,amount):\n",
    "        pass\n",
    "    @abstractmethod\n",
    "    def withdraw(self,amount):\n",
    "        pass\n",
    "    def get_balance(self):\n",
    "        return self.balance\n",
    "        "
   ]
  },
  {
   "cell_type": "code",
   "execution_count": 72,
   "id": "71ec8742",
   "metadata": {},
   "outputs": [],
   "source": [
    "class currentAccount(Account):\n",
    "    def deposit(self, amount):\n",
    "        self.balance += amount\n",
    "        print(f\"Rs. {amount} credited in your Account.\\nCurrent Available Balance={self.balance}\")\n",
    "    \n",
    "    def withdraw(self, amount):\n",
    "        # Allow normal withdrawal with overdraft of 5000\n",
    "        if self.balance >= amount-5000:\n",
    "            self.balance -= amount\n",
    "            print(f\"CurrentAccount: Withdrew {amount}\\nCurrent Available Balance={self.balance}\")\n",
    "        else:\n",
    "            print(\"CurrentAccount: Insufficient funds\")"
   ]
  },
  {
   "cell_type": "code",
   "execution_count": 73,
   "id": "26286648",
   "metadata": {},
   "outputs": [],
   "source": [
    "class savingsAccount(Account):\n",
    "    def deposit(self, amount):\n",
    "        self.balance += amount\n",
    "        print(f\"Rs. {amount} credited in your Account.\\nCurrent Available Balance={self.balance}\")\n",
    "\n",
    "    def withdraw(self, amount):\n",
    "        # Allow overdraft up to -5000\n",
    "        if self.balance - amount >= -5000:\n",
    "            self.balance -= amount\n",
    "            print(f\"SavingsAccount: Withdrew {amount}\\nCurrent Available Balance={self.balance}\")\n",
    "        else:\n",
    "            print(\"SavingsAccount: Overdraft limit reached\")"
   ]
  },
  {
   "cell_type": "code",
   "execution_count": 74,
   "id": "8bef04b2",
   "metadata": {},
   "outputs": [],
   "source": [
    "class Card:\n",
    "    def __init__(self,card_name,card_type):\n",
    "        self.card_name=card_name\n",
    "        self.card_type=card_type\n",
    "        "
   ]
  },
  {
   "cell_type": "code",
   "execution_count": 75,
   "id": "81397d72",
   "metadata": {},
   "outputs": [],
   "source": [
    "class Customer:\n",
    "    def __init__(self,name,customer_id,):\n",
    "        self.name=name\n",
    "        self.customer_id=customer_id\n",
    "        self.Accounts=[]\n",
    "        self.card=None\n",
    "    def add_account(self,account):\n",
    "        self.Accounts.append(account)\n",
    "    def assign_card(self,card):\n",
    "        self.card=card"
   ]
  },
  {
   "cell_type": "code",
   "execution_count": 76,
   "id": "7d655160",
   "metadata": {},
   "outputs": [],
   "source": [
    "class Transaction:\n",
    "    def transfer(self,from_account,to_account,amount):\n",
    "        from_account.withdraw(amount)\n",
    "        to_account.deposit(amount)"
   ]
  },
  {
   "cell_type": "code",
   "execution_count": 77,
   "id": "49a2641d",
   "metadata": {},
   "outputs": [],
   "source": [
    "class Bank:\n",
    "    def __init__(self,name):\n",
    "        self.name=name\n",
    "        self.Customer=[]  \n",
    "    def add_customer(self,customer):\n",
    "        self.Customer.append(customer)\n",
    "    def find_customer(self,customer_id):\n",
    "        for c in self.Customer:\n",
    "            if c.customer_id==customer_id:\n",
    "                return c\n",
    "        return None"
   ]
  },
  {
   "cell_type": "code",
   "execution_count": 78,
   "id": "73300285",
   "metadata": {},
   "outputs": [
    {
     "name": "stdout",
     "output_type": "stream",
     "text": [
      "SavingsAccount: Withdrew 2000\n",
      "Current Available Balance=3000\n",
      "Rs. 2000 credited in your Account.\n",
      "Current Available Balance=12000\n",
      "3000\n",
      "12000\n"
     ]
    }
   ],
   "source": [
    "bank = Bank(\"AI Bank\")\n",
    "\n",
    "# Create customer\n",
    "cust1 = Customer(\"Ayush\", 1)\n",
    "\n",
    "# Create accounts\n",
    "acc1 = savingsAccount(1001, 5000)\n",
    "acc2 = currentAccount(1002, 10000)\n",
    "\n",
    "# Link\n",
    "cust1.add_account(acc1)\n",
    "cust1.add_account(acc2)\n",
    "\n",
    "# Assign card\n",
    "card1 = Card(\"9876-5432-1111\", \"Debit\")\n",
    "cust1.assign_card(card1)\n",
    "\n",
    "# Add to bank\n",
    "bank.add_customer(cust1)\n",
    "\n",
    "# Transaction\n",
    "txn = Transaction()\n",
    "txn.transfer(acc1, acc2, 2000)\n",
    "\n",
    "# Check balances\n",
    "print(acc1.get_balance())\n",
    "print(acc2.get_balance())"
   ]
  },
  {
   "cell_type": "code",
   "execution_count": null,
   "id": "94535592",
   "metadata": {},
   "outputs": [],
   "source": []
  }
 ],
 "metadata": {
  "kernelspec": {
   "display_name": "base",
   "language": "python",
   "name": "python3"
  },
  "language_info": {
   "codemirror_mode": {
    "name": "ipython",
    "version": 3
   },
   "file_extension": ".py",
   "mimetype": "text/x-python",
   "name": "python",
   "nbconvert_exporter": "python",
   "pygments_lexer": "ipython3",
   "version": "3.12.7"
  }
 },
 "nbformat": 4,
 "nbformat_minor": 5
}
