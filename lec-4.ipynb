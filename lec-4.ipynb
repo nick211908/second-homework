{
 "cells": [
  {
   "metadata": {
    "ExecuteTime": {
     "end_time": "2025-06-16T14:45:23.372348Z",
     "start_time": "2025-06-16T14:45:23.365641Z"
    }
   },
   "cell_type": "code",
   "source": [
    "class Substraction:\n",
    "    def calculate(self, a, b):\n",
    "        return a - b"
   ],
   "id": "2d9f2bc255d7507d",
   "outputs": [],
   "execution_count": 5
  },
  {
   "metadata": {
    "ExecuteTime": {
     "end_time": "2025-06-16T14:45:43.196355Z",
     "start_time": "2025-06-16T14:45:43.190625Z"
    }
   },
   "cell_type": "code",
   "source": [
    "class Multiplication:\n",
    "    def calculate(self, a, b):\n",
    "        return a * b"
   ],
   "id": "49b78e0f97701b1b",
   "outputs": [],
   "execution_count": 6
  },
  {
   "metadata": {
    "ExecuteTime": {
     "end_time": "2025-06-16T14:45:55.185501Z",
     "start_time": "2025-06-16T14:45:55.179630Z"
    }
   },
   "cell_type": "code",
   "source": [
    "class Division:\n",
    "    def calculate(self, a, b):\n",
    "        return a / b"
   ],
   "id": "5f7c8fa952287cb7",
   "outputs": [],
   "execution_count": 7
  },
  {
   "metadata": {
    "ExecuteTime": {
     "end_time": "2025-06-16T14:58:22.690682Z",
     "start_time": "2025-06-16T14:58:22.682588Z"
    }
   },
   "cell_type": "code",
   "source": [
    "class Calculator:\n",
    "    def __init__(self):\n",
    "        self.operations = {\n",
    "            'add': Addition(),\n",
    "            'subtract': Substraction(),\n",
    "            'multiply': Multiplication(),\n",
    "            'divide': Division(),\n",
    "        }\n",
    "    def perform(self, operation, a, b):\n",
    "        op = self.operations.get(operation)\n",
    "        if op is None:\n",
    "            return \"Error: Unknown operation!\"\n",
    "        return op.calculate(a, b)"
   ],
   "id": "ed2e8e2132340ea4",
   "outputs": [],
   "execution_count": 9
  },
  {
   "metadata": {
    "ExecuteTime": {
     "end_time": "2025-06-16T14:58:56.162914Z",
     "start_time": "2025-06-16T14:58:56.155461Z"
    }
   },
   "cell_type": "code",
   "source": [
    "calc=Calculator()\n",
    "print(\"Addition:\", calc.perform('add', 10, 5))\n",
    "print(\"Subtraction:\", calc.perform('subtract', 10, 5))\n",
    "print(\"Multiplication:\", calc.perform('multiply', 10, 5))\n",
    "print(\"Division:\", calc.perform('divide', 10, 5))"
   ],
   "id": "acef34918db5af51",
   "outputs": [
    {
     "name": "stdout",
     "output_type": "stream",
     "text": [
      "Addition: 15\n",
      "Subtraction: 5\n",
      "Multiplication: 50\n",
      "Division: 2.0\n"
     ]
    }
   ],
   "execution_count": 10
  },
  {
   "metadata": {},
   "cell_type": "code",
   "outputs": [],
   "execution_count": null,
   "source": "",
   "id": "94a1b570a666b300"
  }
 ],
 "metadata": {
  "kernelspec": {
   "display_name": "Python 3",
   "language": "python",
   "name": "python3"
  },
  "language_info": {
   "codemirror_mode": {
    "name": "ipython",
    "version": 2
   },
   "file_extension": ".py",
   "mimetype": "text/x-python",
   "name": "python",
   "nbconvert_exporter": "python",
   "pygments_lexer": "ipython2",
   "version": "2.7.6"
  }
 },
 "nbformat": 4,
 "nbformat_minor": 5
}
